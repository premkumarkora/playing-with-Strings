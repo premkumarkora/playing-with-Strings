{
  "nbformat": 4,
  "nbformat_minor": 0,
  "metadata": {
    "colab": {
      "provenance": [],
      "authorship_tag": "ABX9TyMTDd6gCqkpBbjf0nJsICFg"
    },
    "kernelspec": {
      "name": "python3",
      "display_name": "Python 3"
    },
    "language_info": {
      "name": "python"
    }
  },
  "cells": [
    {
      "cell_type": "markdown",
      "source": [
        "# PYTHON STRINGS"
      ],
      "metadata": {
        "id": "Ip9U91nxCHU6"
      }
    },
    {
      "cell_type": "markdown",
      "source": [
        "In Python, a string is a sequence of characters enclosed within single (' '), double (\" \"), or triple (''' ''' or \"\"\" \"\"\") quotes. Strings are immutable, meaning their values cannot be changed after creation. Here are some common string operations and methods:\n",
        "\n",
        "### Creating Strings:\n",
        "\n",
        "```python\n",
        "# Single and double quotes can be used to create strings\n",
        "single_quoted = 'Hello, World!'\n",
        "double_quoted = \"Hello, World!\"\n",
        "\n",
        "# Triple quotes are used for multiline strings\n",
        "multiline_string = '''This is a\n",
        "multiline\n",
        "string.'''\n",
        "```\n",
        "\n",
        "### Basic String Operations:\n",
        "\n",
        "```python\n",
        "# Concatenation\n",
        "concatenated_string = \"Hello\" + \" \" + \"World\"\n",
        "\n",
        "# Repetition\n",
        "repeated_string = \"Hello\" * 3  # Results in \"HelloHelloHello\"\n",
        "```\n",
        "\n",
        "### Accessing Characters in a String:\n",
        "\n",
        "```python\n",
        "my_string = \"Python\"\n",
        "\n",
        "# Accessing individual characters\n",
        "first_char = my_string[0]  # 'P'\n",
        "last_char = my_string[-1]  # 'n'\n",
        "\n",
        "# Slicing\n",
        "substring = my_string[1:4]  # 'yth'\n",
        "```\n",
        "\n",
        "### Common String Methods:\n",
        "\n",
        "1. **len():** Returns the length of the string.\n",
        "\n",
        "   ```python\n",
        "   length = len(my_string)  # 6\n",
        "   ```\n",
        "\n",
        "2. **lower() and upper():** Converts the string to lowercase or uppercase.\n",
        "\n",
        "   ```python\n",
        "   lowercased = my_string.lower()  # 'python'\n",
        "   uppercased = my_string.upper()  # 'PYTHON'\n",
        "   ```\n",
        "\n",
        "3. **strip():** Removes leading and trailing whitespace.\n",
        "\n",
        "   ```python\n",
        "   my_string = \"   Python   \"\n",
        "   stripped_string = my_string.strip()  # 'Python'\n",
        "   ```\n",
        "\n",
        "4. **replace():** Replaces a substring with another substring.\n",
        "\n",
        "   ```python\n",
        "   replaced_string = my_string.replace(\"P\", \"J\")  # 'Jython'\n",
        "   ```\n",
        "\n",
        "5. **find() and index():** Return the index of the first occurrence of a substring.\n",
        "\n",
        "   ```python\n",
        "   index_of_t = my_string.find(\"t\")  # 2\n",
        "   index_of_o = my_string.index(\"o\")  # 4\n",
        "   ```\n",
        "\n",
        "6. **count():** Returns the number of occurrences of a substring.\n",
        "\n",
        "   ```python\n",
        "   count_of_o = my_string.count(\"o\")  # 1\n",
        "   ```\n",
        "\n",
        "7. **startswith() and endswith():** Checks if the string starts or ends with a specified substring.\n",
        "\n",
        "   ```python\n",
        "   starts_with_py = my_string.startswith(\"Py\")  # True\n",
        "   ends_with_on = my_string.endswith(\"on\")  # True\n",
        "   ```\n",
        "\n",
        "8. **split():** Splits the string into a list of substrings based on a delimiter.\n",
        "\n",
        "   ```python\n",
        "   sentence = \"This is a sentence.\"\n",
        "   words = sentence.split()  # ['This', 'is', 'a', 'sentence.']\n",
        "   ```\n",
        "\n",
        "9. **join():** Joins elements of an iterable into a string using the specified separator.\n",
        "\n",
        "   ```python\n",
        "   words = ['This', 'is', 'a', 'sentence.']\n",
        "   joined_sentence = \" \".join(words)  # 'This is a sentence.'\n",
        "   ```\n",
        "\n",
        "10. **format():** Formats the string by replacing placeholders with values.\n",
        "\n",
        "    ```python\n",
        "    name = \"John\"\n",
        "    age = 25\n",
        "    formatted_string = \"My name is {} and I am {} years old.\".format(name, age)\n",
        "    ```\n",
        "\n",
        "11. **isalpha(), isnumeric(), isalnum():** Check if the string consists of alphabetic characters, numeric characters, or alphanumeric characters.\n",
        "\n",
        "    ```python\n",
        "    alpha_check = my_string.isalpha()  # False\n",
        "    numeric_check = my_string.isnumeric()  # False\n",
        "    alnum_check = my_string.isalnum()  # False\n",
        "    ```\n",
        "\n",
        "12. **capitalize() and title():** Capitalizes the first letter of the string or each word.\n",
        "\n",
        "    ```python\n",
        "    capitalized = my_string.capitalize()  # 'Python'\n",
        "    title_case = my_string.title()  # 'Python'\n",
        "    ```\n",
        "\n",
        "These are just a few examples of the many methods available for working with strings in Python. Strings are a fundamental data type, and their methods provide powerful tools for string manipulation and formatting."
      ],
      "metadata": {
        "id": "tSIKPi7tCFFS"
      }
    },
    {
      "cell_type": "markdown",
      "source": [
        "# When to use strings"
      ],
      "metadata": {
        "id": "iYkFcySDCqe9"
      }
    },
    {
      "cell_type": "markdown",
      "source": [
        "Strings in Python are used to represent and manipulate textual data. They are versatile and play a crucial role in various aspects of programming. Here are some common scenarios when you should use strings:\n",
        "\n",
        "1. **Text Representation:**\n",
        "   - Strings are the primary data type for representing and manipulating textual information. Whether it's user input, file content, or data fetched from a database, strings are essential for handling text.\n",
        "\n",
        "     ```python\n",
        "     user_input = input(\"Enter your name: \")\n",
        "     file_content = open(\"example.txt\").read()\n",
        "     ```\n",
        "\n",
        "2. **Output and Formatting:**\n",
        "   - Strings are commonly used to format and display information. They allow you to concatenate variables, control spacing, and create well-formatted output.\n",
        "\n",
        "     ```python\n",
        "     name = \"John\"\n",
        "     age = 25\n",
        "     print(\"My name is {} and I am {} years old.\".format(name, age))\n",
        "     ```\n",
        "\n",
        "3. **Manipulating Text:**\n",
        "   - Strings offer a wide range of methods for manipulating text. You can perform operations such as splitting, joining, replacing, and searching within a string.\n",
        "\n",
        "     ```python\n",
        "     sentence = \"This is a sample sentence.\"\n",
        "     words = sentence.split()  # ['This', 'is', 'a', 'sample', 'sentence.']\n",
        "     new_sentence = \" \".join(words)  # 'This is a sample sentence.'\n",
        "     ```\n",
        "\n",
        "4. **Regular Expressions:**\n",
        "   - Strings are extensively used with regular expressions for pattern matching and text processing.\n",
        "\n",
        "     ```python\n",
        "     import re\n",
        "\n",
        "     text = \"The price of the product is $25.99.\"\n",
        "     match = re.search(r'\\$\\d+\\.\\d{2}', text)\n",
        "     ```\n",
        "\n",
        "5. **User Interface:**\n",
        "   - In applications with a graphical user interface (GUI) or command-line interface (CLI), strings are used to display information, take user input, and communicate with the user.\n",
        "\n",
        "     ```python\n",
        "     user_name = input(\"Enter your username: \")\n",
        "     print(\"Welcome, {}!\".format(user_name))\n",
        "     ```\n",
        "\n",
        "6. **File Handling:**\n",
        "   - When working with files, strings are used to read and write textual content. They enable you to handle the content of text files, log files, configuration files, etc.\n",
        "\n",
        "     ```python\n",
        "     with open(\"example.txt\", \"w\") as file:\n",
        "         file.write(\"This is a sample text.\")\n",
        "     ```\n",
        "\n",
        "7. **Data Serialization:**\n",
        "   - Strings are often used to represent data in a serialized format, such as JSON or XML. This is especially common when exchanging data between systems or storing configuration settings.\n",
        "\n",
        "     ```python\n",
        "     import json\n",
        "\n",
        "     data = {\"name\": \"John\", \"age\": 30}\n",
        "     json_string = json.dumps(data)\n",
        "     ```\n",
        "\n",
        "8. **Web Development:**\n",
        "   - In web development, strings are used to represent HTML, CSS, JavaScript code, and to manipulate URLs. They play a vital role in building and interacting with web applications.\n",
        "\n",
        "     ```python\n",
        "     html_code = \"<h1>Hello, World!</h1>\"\n",
        "     ```\n",
        "\n",
        "In summary, you should use strings whenever you need to work with textual data, manipulate text, format output, handle user input, work with files, or interact with various data formats. Strings are a fundamental and versatile data type in Python, making them essential in a wide range of programming scenarios."
      ],
      "metadata": {
        "id": "uOCAiMYoCuBe"
      }
    },
    {
      "cell_type": "markdown",
      "source": [
        "# Avoid"
      ],
      "metadata": {
        "id": "x09f2inlCve-"
      }
    },
    {
      "cell_type": "markdown",
      "source": [
        "While strings are a versatile and fundamental data type in Python, there are certain scenarios where using strings might not be the most appropriate choice. Here are some cases when you might consider alternatives:\n",
        "\n",
        "1. **Large Text Manipulation:**\n",
        "   - If you need to perform extensive manipulations on very large texts (e.g., gigabytes of text), using strings directly may not be efficient due to their immutability. In such cases, consider using other data structures like `io.BytesIO` or specialized libraries for text processing.\n",
        "\n",
        "2. **Numerical Computations:**\n",
        "   - Strings are not designed for numerical computations. If you're working extensively with numerical data, use numeric data types like integers or floats. For complex numerical operations and efficient array operations, consider using NumPy arrays.\n",
        "\n",
        "3. **Security-Sensitive Information:**\n",
        "   - Avoid using strings to store sensitive information like passwords. Instead, use specialized libraries and techniques for secure password storage, such as the `secrets` module or dedicated password hashing libraries.\n",
        "\n",
        "4. **Data Serialization of Large Objects:**\n",
        "   - While strings are commonly used for data serialization (e.g., JSON, XML), avoid using them for very large objects or datasets. In such cases, consider more efficient serialization formats like binary formats (e.g., Protocol Buffers or MessagePack).\n",
        "\n",
        "5. **File Paths and Operating System Commands:**\n",
        "   - Avoid manipulating file paths using string concatenation, especially in a cross-platform environment. Use the `os.path` module or the `pathlib` module for path manipulation. Also, avoid constructing operating system commands through string concatenation due to security risks; use subprocess or related modules instead.\n",
        "\n",
        "   ```python\n",
        "   import os\n",
        "   from pathlib import Path\n",
        "\n",
        "   file_path = os.path.join(\"directory\", \"file.txt\")\n",
        "   ```\n",
        "\n",
        "6. **Database Query Construction:**\n",
        "   - Avoid constructing database queries using string concatenation to prevent SQL injection vulnerabilities. Use parameterized queries or an ORM (Object-Relational Mapping) library to handle database interactions safely.\n",
        "\n",
        "   ```python\n",
        "   import sqlite3\n",
        "\n",
        "   conn = sqlite3.connect(\"example.db\")\n",
        "   cursor = conn.cursor()\n",
        "\n",
        "   # Avoid constructing queries like this\n",
        "   unsafe_query = \"SELECT * FROM users WHERE username = '\" + input_username + \"'\"\n",
        "\n",
        "   # Use parameterized queries\n",
        "   safe_query = \"SELECT * FROM users WHERE username = ?\"\n",
        "   cursor.execute(safe_query, (input_username,))\n",
        "   ```\n",
        "\n",
        "7. **Encoding and Decoding Binary Data:**\n",
        "   - While strings are used for text, avoid using them for arbitrary binary data. Use `bytes` or `bytearray` for handling binary data, and use proper encoding/decoding methods when needed.\n",
        "\n",
        "   ```python\n",
        "   binary_data = b'\\x48\\x65\\x6c\\x6c\\x6f'\n",
        "   ```\n",
        "\n",
        "8. **When Memory Efficiency is Crucial:**\n",
        "   - If memory efficiency is critical in your application and you're dealing with large datasets, consider using more memory-efficient data structures or specialized libraries that optimize memory usage.\n",
        "\n",
        "In summary, while strings are versatile, they may not be the best choice in certain scenarios, such as when dealing with large data, numerical computations, security-sensitive information, or specialized tasks where other data types or libraries are better suited. Always choose the appropriate data structure or tool based on the specific requirements of your task."
      ],
      "metadata": {
        "id": "qfhcO5ZYCxxe"
      }
    },
    {
      "cell_type": "code",
      "source": [
        "dir(str)"
      ],
      "metadata": {
        "colab": {
          "base_uri": "https://localhost:8080/"
        },
        "id": "L3mRugOV5Ryz",
        "outputId": "878bb489-746c-491d-d167-5ec4a3c6a387"
      },
      "execution_count": null,
      "outputs": [
        {
          "output_type": "execute_result",
          "data": {
            "text/plain": [
              "['__add__',\n",
              " '__class__',\n",
              " '__contains__',\n",
              " '__delattr__',\n",
              " '__dir__',\n",
              " '__doc__',\n",
              " '__eq__',\n",
              " '__format__',\n",
              " '__ge__',\n",
              " '__getattribute__',\n",
              " '__getitem__',\n",
              " '__getnewargs__',\n",
              " '__gt__',\n",
              " '__hash__',\n",
              " '__init__',\n",
              " '__init_subclass__',\n",
              " '__iter__',\n",
              " '__le__',\n",
              " '__len__',\n",
              " '__lt__',\n",
              " '__mod__',\n",
              " '__mul__',\n",
              " '__ne__',\n",
              " '__new__',\n",
              " '__reduce__',\n",
              " '__reduce_ex__',\n",
              " '__repr__',\n",
              " '__rmod__',\n",
              " '__rmul__',\n",
              " '__setattr__',\n",
              " '__sizeof__',\n",
              " '__str__',\n",
              " '__subclasshook__',\n",
              " 'capitalize',\n",
              " 'casefold',\n",
              " 'center',\n",
              " 'count',\n",
              " 'encode',\n",
              " 'endswith',\n",
              " 'expandtabs',\n",
              " 'find',\n",
              " 'format',\n",
              " 'format_map',\n",
              " 'index',\n",
              " 'isalnum',\n",
              " 'isalpha',\n",
              " 'isascii',\n",
              " 'isdecimal',\n",
              " 'isdigit',\n",
              " 'isidentifier',\n",
              " 'islower',\n",
              " 'isnumeric',\n",
              " 'isprintable',\n",
              " 'isspace',\n",
              " 'istitle',\n",
              " 'isupper',\n",
              " 'join',\n",
              " 'ljust',\n",
              " 'lower',\n",
              " 'lstrip',\n",
              " 'maketrans',\n",
              " 'partition',\n",
              " 'removeprefix',\n",
              " 'removesuffix',\n",
              " 'replace',\n",
              " 'rfind',\n",
              " 'rindex',\n",
              " 'rjust',\n",
              " 'rpartition',\n",
              " 'rsplit',\n",
              " 'rstrip',\n",
              " 'split',\n",
              " 'splitlines',\n",
              " 'startswith',\n",
              " 'strip',\n",
              " 'swapcase',\n",
              " 'title',\n",
              " 'translate',\n",
              " 'upper',\n",
              " 'zfill']"
            ]
          },
          "metadata": {},
          "execution_count": 3
        }
      ]
    },
    {
      "cell_type": "code",
      "execution_count": null,
      "metadata": {
        "colab": {
          "base_uri": "https://localhost:8080/"
        },
        "id": "AY8qNsJrbFkQ",
        "outputId": "e9677b58-bfe4-4b6f-9ccc-509903e2d6de"
      },
      "outputs": [
        {
          "output_type": "stream",
          "name": "stdout",
          "text": [
            "my Name is Prem\n"
          ]
        }
      ],
      "source": [
        "str=\"my Name is Prem\"\n",
        "print(str)"
      ]
    },
    {
      "cell_type": "code",
      "source": [
        "str.capitalize()  # First Letter will be capatilized"
      ],
      "metadata": {
        "colab": {
          "base_uri": "https://localhost:8080/",
          "height": 35
        },
        "id": "lZB3oE46bdUU",
        "outputId": "0bc08fce-ca85-46f8-c61e-f589b0a88013"
      },
      "execution_count": null,
      "outputs": [
        {
          "output_type": "execute_result",
          "data": {
            "text/plain": [
              "'My name is prem'"
            ],
            "application/vnd.google.colaboratory.intrinsic+json": {
              "type": "string"
            }
          },
          "metadata": {},
          "execution_count": 5
        }
      ]
    },
    {
      "cell_type": "code",
      "source": [
        "str.casefold()  # converts to lowercase"
      ],
      "metadata": {
        "colab": {
          "base_uri": "https://localhost:8080/",
          "height": 35
        },
        "id": "tCsbMPFIbs5J",
        "outputId": "418587a3-511b-4975-cea5-9dd47d3f11bd"
      },
      "execution_count": null,
      "outputs": [
        {
          "output_type": "execute_result",
          "data": {
            "text/plain": [
              "'my name is prem'"
            ],
            "application/vnd.google.colaboratory.intrinsic+json": {
              "type": "string"
            }
          },
          "metadata": {},
          "execution_count": 6
        }
      ]
    },
    {
      "cell_type": "code",
      "source": [
        "str.lower() # converts to lowercase"
      ],
      "metadata": {
        "colab": {
          "base_uri": "https://localhost:8080/",
          "height": 35
        },
        "id": "WrMxJEGkb4e0",
        "outputId": "05cd6f1e-3f61-4a45-db7d-bddd75669fe3"
      },
      "execution_count": null,
      "outputs": [
        {
          "output_type": "execute_result",
          "data": {
            "text/plain": [
              "'my name is prem'"
            ],
            "application/vnd.google.colaboratory.intrinsic+json": {
              "type": "string"
            }
          },
          "metadata": {},
          "execution_count": 7
        }
      ]
    },
    {
      "cell_type": "code",
      "source": [
        "s=\n",
        "\n",
        "isdigit\n",
        "isnumeric\n"
      ],
      "metadata": {
        "id": "SX9Cz0HUCDIj"
      },
      "execution_count": null,
      "outputs": []
    },
    {
      "cell_type": "code",
      "source": [
        "str = \"London\"\n",
        "str[0:3]"
      ],
      "metadata": {
        "colab": {
          "base_uri": "https://localhost:8080/",
          "height": 35
        },
        "id": "ZrCwijziHSfM",
        "outputId": "ae7dcb4e-60b2-4769-f039-754c8e2efe11"
      },
      "execution_count": null,
      "outputs": [
        {
          "output_type": "execute_result",
          "data": {
            "text/plain": [
              "'Lon'"
            ],
            "application/vnd.google.colaboratory.intrinsic+json": {
              "type": "string"
            }
          },
          "metadata": {},
          "execution_count": 2
        }
      ]
    },
    {
      "cell_type": "markdown",
      "source": [
        "The most versatile is the list, which can be written as a list of comma-separated values (items) between square brackets. Lists might contain items of different types, but usually the items all have the same type."
      ],
      "metadata": {
        "id": "diI5mH_pJJAJ"
      }
    },
    {
      "cell_type": "code",
      "source": [
        "sqr = [1, 4, 9, 16, 25]\n",
        "\n",
        "sqr[2]"
      ],
      "metadata": {
        "colab": {
          "base_uri": "https://localhost:8080/"
        },
        "id": "mdn4a8rRJl0n",
        "outputId": "78b3688a-26bb-4b23-eafa-500723d92ab9"
      },
      "execution_count": null,
      "outputs": [
        {
          "output_type": "execute_result",
          "data": {
            "text/plain": [
              "9"
            ]
          },
          "metadata": {},
          "execution_count": 7
        }
      ]
    },
    {
      "cell_type": "code",
      "source": [
        "mul = [\"Anu\", 23 , \"Zo\", 24, \"Ker\", 21]\n",
        "\n",
        "mul"
      ],
      "metadata": {
        "colab": {
          "base_uri": "https://localhost:8080/"
        },
        "id": "A8_ZwyAMIBpL",
        "outputId": "070e6901-7fee-4430-94c6-98ec4213f9bf"
      },
      "execution_count": null,
      "outputs": [
        {
          "output_type": "execute_result",
          "data": {
            "text/plain": [
              "['Anu', 23, 'Zo', 24, 'Ker', 21]"
            ]
          },
          "metadata": {},
          "execution_count": 8
        }
      ]
    },
    {
      "cell_type": "markdown",
      "source": [
        "# Slicing"
      ],
      "metadata": {
        "id": "wdBfT-tbJvO-"
      }
    },
    {
      "cell_type": "code",
      "source": [
        "sqr = [1, 4, 9, 16, 25]\n",
        "ind = [0, 1, 2,  3,  4]\n",
        "sqr[:]"
      ],
      "metadata": {
        "colab": {
          "base_uri": "https://localhost:8080/"
        },
        "id": "S7H9blQBJxe7",
        "outputId": "1a9f2f1f-7f69-4085-9d8c-af130ffd6a61"
      },
      "execution_count": null,
      "outputs": [
        {
          "output_type": "execute_result",
          "data": {
            "text/plain": [
              "[1, 4, 9, 16, 25]"
            ]
          },
          "metadata": {},
          "execution_count": 9
        }
      ]
    },
    {
      "cell_type": "code",
      "source": [
        "sqr[1:3]"
      ],
      "metadata": {
        "colab": {
          "base_uri": "https://localhost:8080/"
        },
        "id": "mmG3GidOJ44r",
        "outputId": "c57f2bd4-1e71-454a-a6ca-68ab9170847f"
      },
      "execution_count": null,
      "outputs": [
        {
          "output_type": "execute_result",
          "data": {
            "text/plain": [
              "[4, 9]"
            ]
          },
          "metadata": {},
          "execution_count": 13
        }
      ]
    },
    {
      "cell_type": "code",
      "source": [
        "sqr[0:3]"
      ],
      "metadata": {
        "colab": {
          "base_uri": "https://localhost:8080/"
        },
        "id": "Tf4SgTeUK6ty",
        "outputId": "88da19e0-756e-4335-b1c0-bb0e14c8700d"
      },
      "execution_count": null,
      "outputs": [
        {
          "output_type": "execute_result",
          "data": {
            "text/plain": [
              "[1, 4, 9]"
            ]
          },
          "metadata": {},
          "execution_count": 14
        }
      ]
    },
    {
      "cell_type": "code",
      "source": [
        "sqr[3:]"
      ],
      "metadata": {
        "colab": {
          "base_uri": "https://localhost:8080/"
        },
        "id": "gMKAeETkK9mK",
        "outputId": "177c82d1-281c-48bb-bfbb-62086b747a4e"
      },
      "execution_count": null,
      "outputs": [
        {
          "output_type": "execute_result",
          "data": {
            "text/plain": [
              "[16, 25]"
            ]
          },
          "metadata": {},
          "execution_count": 15
        }
      ]
    },
    {
      "cell_type": "code",
      "source": [
        "seplist = sqr[1:3]\n",
        "seplist"
      ],
      "metadata": {
        "colab": {
          "base_uri": "https://localhost:8080/"
        },
        "id": "LO7XV6-1KN0G",
        "outputId": "0de3acfc-eeca-4bcf-bedf-db63809c1265"
      },
      "execution_count": null,
      "outputs": [
        {
          "output_type": "execute_result",
          "data": {
            "text/plain": [
              "[4, 9]"
            ]
          },
          "metadata": {},
          "execution_count": 11
        }
      ]
    },
    {
      "cell_type": "code",
      "source": [
        "cubes = [1, 8, 27, 65, 125]\n",
        "cubes[3]=64\n",
        "cubes"
      ],
      "metadata": {
        "colab": {
          "base_uri": "https://localhost:8080/"
        },
        "id": "G9qqdeb6M_A3",
        "outputId": "9b8700ab-2d8a-4f68-df77-4d5e1125cf69"
      },
      "execution_count": null,
      "outputs": [
        {
          "output_type": "execute_result",
          "data": {
            "text/plain": [
              "[1, 8, 27, 64, 125]"
            ]
          },
          "metadata": {},
          "execution_count": 20
        }
      ]
    },
    {
      "cell_type": "code",
      "source": [
        "cubes.append(216)\n",
        "cubes"
      ],
      "metadata": {
        "colab": {
          "base_uri": "https://localhost:8080/"
        },
        "id": "R-3YG3xQNlkq",
        "outputId": "bc4f2f44-bcf9-4040-892e-2324fe2dec80"
      },
      "execution_count": null,
      "outputs": [
        {
          "output_type": "execute_result",
          "data": {
            "text/plain": [
              "[1, 8, 27, 64, 125, 216, 216, 216]"
            ]
          },
          "metadata": {},
          "execution_count": 23
        }
      ]
    },
    {
      "cell_type": "code",
      "source": [
        "letters = ['a', 'b', 'c', 'd', 'e', 'f', 'g']\n",
        "letters = []\n",
        "letters"
      ],
      "metadata": {
        "colab": {
          "base_uri": "https://localhost:8080/"
        },
        "id": "ZMkNc88GN5H_",
        "outputId": "36981561-c154-4b6f-e952-bfb46f7123f5"
      },
      "execution_count": null,
      "outputs": [
        {
          "output_type": "execute_result",
          "data": {
            "text/plain": [
              "[]"
            ]
          },
          "metadata": {},
          "execution_count": 25
        }
      ]
    },
    {
      "cell_type": "code",
      "source": [
        "letters = ['a', 'b', 'c', 'd', 'e', 'f', 'g']\n",
        "len(letters)"
      ],
      "metadata": {
        "colab": {
          "base_uri": "https://localhost:8080/"
        },
        "id": "z2eEvusHOENv",
        "outputId": "c38afc37-aaa8-45e0-fdd3-6e215af13dc7"
      },
      "execution_count": null,
      "outputs": [
        {
          "output_type": "execute_result",
          "data": {
            "text/plain": [
              "7"
            ]
          },
          "metadata": {},
          "execution_count": 26
        }
      ]
    },
    {
      "cell_type": "code",
      "source": [
        "fruits = ['orange', 'apple', 'pear', 'banana', 'kiwi', 'apple', 'banana']\n",
        "len(fruits)\n",
        "\n"
      ],
      "metadata": {
        "colab": {
          "base_uri": "https://localhost:8080/"
        },
        "id": "A-2JSCmmO347",
        "outputId": "90fecbfb-87a9-41bf-a8e5-10dffdefdef5"
      },
      "execution_count": null,
      "outputs": [
        {
          "output_type": "execute_result",
          "data": {
            "text/plain": [
              "7"
            ]
          },
          "metadata": {},
          "execution_count": 53
        }
      ]
    },
    {
      "cell_type": "code",
      "source": [
        "fruits.count('apple')"
      ],
      "metadata": {
        "colab": {
          "base_uri": "https://localhost:8080/"
        },
        "id": "qNGuhjngPCd1",
        "outputId": "9dad66ef-43d2-4b76-c562-c657a903dadc"
      },
      "execution_count": null,
      "outputs": [
        {
          "output_type": "execute_result",
          "data": {
            "text/plain": [
              "2"
            ]
          },
          "metadata": {},
          "execution_count": 29
        }
      ]
    },
    {
      "cell_type": "code",
      "source": [
        "fruits = ['orange', 'apple', 'pear', 'banana', 'kiwi', 'apple', 'banana']\n",
        "fruits.reverse()\n",
        "fruits"
      ],
      "metadata": {
        "colab": {
          "base_uri": "https://localhost:8080/"
        },
        "id": "Oayt7myjPG_k",
        "outputId": "72ca1677-2dfe-4e01-d643-07e9e20c44db"
      },
      "execution_count": null,
      "outputs": [
        {
          "output_type": "execute_result",
          "data": {
            "text/plain": [
              "['orange', 'kiwi', 'grape', 'banana', 'banana', 'apple', 'apple']"
            ]
          },
          "metadata": {},
          "execution_count": 37
        }
      ]
    },
    {
      "cell_type": "code",
      "source": [
        "fruits.append('grape')"
      ],
      "metadata": {
        "id": "f1SIitQBPTeQ"
      },
      "execution_count": null,
      "outputs": []
    },
    {
      "cell_type": "code",
      "source": [
        "fruits"
      ],
      "metadata": {
        "id": "ytEqsniVPVgy",
        "outputId": "da101462-204b-45d0-cd5c-7ce2b9c2b03e",
        "colab": {
          "base_uri": "https://localhost:8080/"
        }
      },
      "execution_count": null,
      "outputs": [
        {
          "output_type": "execute_result",
          "data": {
            "text/plain": [
              "['orange', 'kiwi', 'grape', 'banana', 'banana', 'apple', 'apple', 'grape']"
            ]
          },
          "metadata": {},
          "execution_count": 39
        }
      ]
    },
    {
      "cell_type": "code",
      "source": [
        "fruits.sort()\n",
        "fruits"
      ],
      "metadata": {
        "colab": {
          "base_uri": "https://localhost:8080/"
        },
        "id": "Yd4FfM66P4_u",
        "outputId": "c5caf380-188d-40fa-f34c-ca8401a42af5"
      },
      "execution_count": null,
      "outputs": [
        {
          "output_type": "execute_result",
          "data": {
            "text/plain": [
              "['apple', 'apple', 'banana', 'banana', 'grape', 'grape', 'kiwi', 'orange']"
            ]
          },
          "metadata": {},
          "execution_count": 41
        }
      ]
    },
    {
      "cell_type": "code",
      "source": [
        "nums = [12,90,1,4,60]"
      ],
      "metadata": {
        "id": "rK85f1otQNZa"
      },
      "execution_count": null,
      "outputs": []
    },
    {
      "cell_type": "code",
      "source": [
        "newlist = fruits + nums\n",
        "newlist"
      ],
      "metadata": {
        "colab": {
          "base_uri": "https://localhost:8080/"
        },
        "id": "ymiy11oAQXL9",
        "outputId": "e63a9ac8-f6df-4369-d5de-1e1d252f113b"
      },
      "execution_count": null,
      "outputs": [
        {
          "output_type": "execute_result",
          "data": {
            "text/plain": [
              "['apple',\n",
              " 'apple',\n",
              " 'banana',\n",
              " 'banana',\n",
              " 'grape',\n",
              " 'grape',\n",
              " 'kiwi',\n",
              " 'orange',\n",
              " 12,\n",
              " 90,\n",
              " 1,\n",
              " 4,\n",
              " 60]"
            ]
          },
          "metadata": {},
          "execution_count": 47
        }
      ]
    },
    {
      "cell_type": "code",
      "source": [
        "fruits = ['orange', 'apple', 'pear', 'banana', 'kiwi', 'apple', 'banana']\n",
        "nums = [12,90,1,4,60]\n",
        "fruits.append(nums)\n",
        "fruits"
      ],
      "metadata": {
        "colab": {
          "base_uri": "https://localhost:8080/"
        },
        "id": "eZzJfBl0Qtju",
        "outputId": "3755377a-6545-4250-aba0-c692cfa1620c"
      },
      "execution_count": null,
      "outputs": [
        {
          "output_type": "execute_result",
          "data": {
            "text/plain": [
              "['orange',\n",
              " 'apple',\n",
              " 'pear',\n",
              " 'banana',\n",
              " 'kiwi',\n",
              " 'apple',\n",
              " 'banana',\n",
              " [12, 90, 1, 4, 60]]"
            ]
          },
          "metadata": {},
          "execution_count": 56
        }
      ]
    },
    {
      "cell_type": "code",
      "source": [
        "fruits = ['orange', 'apple', 'pear', 'banana', 'kiwi', 'apple', 'banana']\n",
        "fruits.pop()\n",
        "fruits"
      ],
      "metadata": {
        "colab": {
          "base_uri": "https://localhost:8080/"
        },
        "id": "Vh03vBByRYlu",
        "outputId": "cc03d471-e6b9-498a-b36f-ebaf6a17f104"
      },
      "execution_count": null,
      "outputs": [
        {
          "output_type": "execute_result",
          "data": {
            "text/plain": [
              "['orange', 'apple', 'pear', 'banana', 'kiwi', 'apple']"
            ]
          },
          "metadata": {},
          "execution_count": 58
        }
      ]
    },
    {
      "cell_type": "markdown",
      "source": [
        "# Tuples"
      ],
      "metadata": {
        "id": "3IjBQjoBRz_Z"
      }
    },
    {
      "cell_type": "code",
      "source": [
        "fruitsTuple = ('orange', 'apple', 'pear', 'banana', 'kiwi', 'apple', 'banana')"
      ],
      "metadata": {
        "id": "jsZS33z-R2V8"
      },
      "execution_count": null,
      "outputs": []
    },
    {
      "cell_type": "code",
      "source": [
        "fruitsTuple"
      ],
      "metadata": {
        "colab": {
          "base_uri": "https://localhost:8080/"
        },
        "id": "a8ya0105SJLQ",
        "outputId": "12395de4-2c3a-47f2-e016-f469f6e3c4e3"
      },
      "execution_count": null,
      "outputs": [
        {
          "output_type": "execute_result",
          "data": {
            "text/plain": [
              "('orange', 'apple', 'pear', 'banana', 'kiwi', 'apple', 'banana')"
            ]
          },
          "metadata": {},
          "execution_count": 68
        }
      ]
    },
    {
      "cell_type": "code",
      "source": [
        "fruitsTuple[2] = \"Mango\""
      ],
      "metadata": {
        "colab": {
          "base_uri": "https://localhost:8080/",
          "height": 180
        },
        "id": "AaaJcWLiSXuA",
        "outputId": "f3438288-0aa1-47e5-bf1c-a5b1dd0a3a99"
      },
      "execution_count": null,
      "outputs": [
        {
          "output_type": "error",
          "ename": "TypeError",
          "evalue": "ignored",
          "traceback": [
            "\u001b[0;31m---------------------------------------------------------------------------\u001b[0m",
            "\u001b[0;31mTypeError\u001b[0m                                 Traceback (most recent call last)",
            "\u001b[0;32m<ipython-input-69-e16ad092aecf>\u001b[0m in \u001b[0;36m<cell line: 1>\u001b[0;34m()\u001b[0m\n\u001b[0;32m----> 1\u001b[0;31m \u001b[0mfruitsTuple\u001b[0m\u001b[0;34m[\u001b[0m\u001b[0;36m2\u001b[0m\u001b[0;34m]\u001b[0m \u001b[0;34m=\u001b[0m \u001b[0;34m\"Mango\"\u001b[0m\u001b[0;34m\u001b[0m\u001b[0;34m\u001b[0m\u001b[0m\n\u001b[0m",
            "\u001b[0;31mTypeError\u001b[0m: 'tuple' object does not support item assignment"
          ]
        }
      ]
    },
    {
      "cell_type": "code",
      "source": [
        "fruitslist = ['orange', 'apple', 'pear', 'banana', 'kiwi', 'apple', 'banana']\n",
        "fruitslist[2] = 'Mango'\n",
        "fruitslist"
      ],
      "metadata": {
        "colab": {
          "base_uri": "https://localhost:8080/"
        },
        "id": "5dqFT014SvrT",
        "outputId": "de9a81f8-854f-4097-df79-b9f73a79f2cd"
      },
      "execution_count": null,
      "outputs": [
        {
          "output_type": "execute_result",
          "data": {
            "text/plain": [
              "['orange', 'apple', 'Mango', 'banana', 'kiwi', 'apple', 'banana']"
            ]
          },
          "metadata": {},
          "execution_count": 70
        }
      ]
    },
    {
      "cell_type": "code",
      "source": [
        "empty = ()\n",
        "len(empty)"
      ],
      "metadata": {
        "colab": {
          "base_uri": "https://localhost:8080/"
        },
        "id": "i4dUx7vPTfk9",
        "outputId": "f7e1fc47-e936-4255-9308-7dc497f1ba28"
      },
      "execution_count": null,
      "outputs": [
        {
          "output_type": "execute_result",
          "data": {
            "text/plain": [
              "0"
            ]
          },
          "metadata": {},
          "execution_count": 72
        }
      ]
    },
    {
      "cell_type": "code",
      "source": [
        "singleton = 'hello'\n",
        "len(singleton)"
      ],
      "metadata": {
        "colab": {
          "base_uri": "https://localhost:8080/"
        },
        "id": "MGyF0pIvUNjU",
        "outputId": "23277fcf-bc12-40ef-a872-2003881cba31"
      },
      "execution_count": null,
      "outputs": [
        {
          "output_type": "execute_result",
          "data": {
            "text/plain": [
              "5"
            ]
          },
          "metadata": {},
          "execution_count": 75
        }
      ]
    },
    {
      "cell_type": "code",
      "source": [
        "singleton = 'hello',\n",
        "len(singleton)"
      ],
      "metadata": {
        "colab": {
          "base_uri": "https://localhost:8080/"
        },
        "id": "zERGDE72TlsK",
        "outputId": "4b1b8b47-77b4-445f-d15d-04f0fd8f6252"
      },
      "execution_count": null,
      "outputs": [
        {
          "output_type": "execute_result",
          "data": {
            "text/plain": [
              "1"
            ]
          },
          "metadata": {},
          "execution_count": 73
        }
      ]
    },
    {
      "cell_type": "code",
      "source": [
        "moreintuples = 'one',2,3,\n",
        "len(moreintuples)"
      ],
      "metadata": {
        "colab": {
          "base_uri": "https://localhost:8080/"
        },
        "id": "JiGZdpyxTyTy",
        "outputId": "954b20f6-fd74-4c28-f69e-c491f480afed"
      },
      "execution_count": null,
      "outputs": [
        {
          "output_type": "execute_result",
          "data": {
            "text/plain": [
              "3"
            ]
          },
          "metadata": {},
          "execution_count": 77
        }
      ]
    },
    {
      "cell_type": "markdown",
      "source": [
        "# SET\n",
        " A set is an unordered collection with *no duplicate elements*. Basic uses include membership testing and eliminating duplicate entries.\n",
        "\n",
        " Set objects also support mathematical operations like union, intersection, difference, and symmetric difference."
      ],
      "metadata": {
        "id": "h772jhkOa4u8"
      }
    },
    {
      "cell_type": "code",
      "source": [
        "basket_Tuple = ('apple', 'orange', 'apple', 'pear', 'orange', 'banana') # Indexing is done\n",
        "basket_list = [ 'apple', 'orange', 'apple', 'pear', 'orange', 'banana'] # Indexing is done\n",
        "basket_set = {'apple', 'orange', 'apple', 'pear', 'orange', 'banana'} # No indexing can be done"
      ],
      "metadata": {
        "id": "S4Rxd7mHbAmx"
      },
      "execution_count": null,
      "outputs": []
    },
    {
      "cell_type": "code",
      "source": [
        "basket_Tuple"
      ],
      "metadata": {
        "colab": {
          "base_uri": "https://localhost:8080/"
        },
        "id": "tSsDt-nZbYl6",
        "outputId": "8f17066d-e5b6-423c-e5c2-8e2273b08ab1"
      },
      "execution_count": null,
      "outputs": [
        {
          "output_type": "execute_result",
          "data": {
            "text/plain": [
              "('apple', 'orange', 'apple', 'pear', 'orange', 'banana')"
            ]
          },
          "metadata": {},
          "execution_count": 89
        }
      ]
    },
    {
      "cell_type": "code",
      "source": [
        "basket_list"
      ],
      "metadata": {
        "colab": {
          "base_uri": "https://localhost:8080/"
        },
        "id": "UuZobeJhbemx",
        "outputId": "965081c6-0ba0-4de4-e3cc-db018aae4338"
      },
      "execution_count": null,
      "outputs": [
        {
          "output_type": "execute_result",
          "data": {
            "text/plain": [
              "['apple', 'orange', 'apple', 'pear', 'orange', 'banana']"
            ]
          },
          "metadata": {},
          "execution_count": 90
        }
      ]
    },
    {
      "cell_type": "code",
      "source": [
        "basket_set"
      ],
      "metadata": {
        "colab": {
          "base_uri": "https://localhost:8080/"
        },
        "id": "Rz6zjGtTbhoI",
        "outputId": "604b2f76-ea7b-430f-ce34-f2c8b9b61b13"
      },
      "execution_count": null,
      "outputs": [
        {
          "output_type": "execute_result",
          "data": {
            "text/plain": [
              "{'apple', 'banana', 'orange', 'pear'}"
            ]
          },
          "metadata": {},
          "execution_count": 91
        }
      ]
    },
    {
      "cell_type": "code",
      "source": [
        "basket_set[1]"
      ],
      "metadata": {
        "colab": {
          "base_uri": "https://localhost:8080/",
          "height": 180
        },
        "id": "KNVdk5BXb5Bt",
        "outputId": "b1722083-e0bb-47bd-98a3-9529b7a07630"
      },
      "execution_count": null,
      "outputs": [
        {
          "output_type": "error",
          "ename": "TypeError",
          "evalue": "ignored",
          "traceback": [
            "\u001b[0;31m---------------------------------------------------------------------------\u001b[0m",
            "\u001b[0;31mTypeError\u001b[0m                                 Traceback (most recent call last)",
            "\u001b[0;32m<ipython-input-93-ff8b126b3fbc>\u001b[0m in \u001b[0;36m<cell line: 1>\u001b[0;34m()\u001b[0m\n\u001b[0;32m----> 1\u001b[0;31m \u001b[0mbasket_set\u001b[0m\u001b[0;34m[\u001b[0m\u001b[0;36m1\u001b[0m\u001b[0;34m]\u001b[0m\u001b[0;34m\u001b[0m\u001b[0;34m\u001b[0m\u001b[0m\n\u001b[0m",
            "\u001b[0;31mTypeError\u001b[0m: 'set' object is not subscriptable"
          ]
        }
      ]
    },
    {
      "cell_type": "code",
      "source": [
        "basket_set.remove('banana')"
      ],
      "metadata": {
        "id": "mbB3w5OZb_x_"
      },
      "execution_count": null,
      "outputs": []
    },
    {
      "cell_type": "code",
      "source": [
        "basket_set"
      ],
      "metadata": {
        "colab": {
          "base_uri": "https://localhost:8080/"
        },
        "id": "0dcHaZxOcNaX",
        "outputId": "dae27efd-6bbc-432b-b45f-d643f21c1dbe"
      },
      "execution_count": null,
      "outputs": [
        {
          "output_type": "execute_result",
          "data": {
            "text/plain": [
              "{'apple', 'orange', 'pear'}"
            ]
          },
          "metadata": {},
          "execution_count": 96
        }
      ]
    },
    {
      "cell_type": "code",
      "source": [
        "a = set('abracadabra')"
      ],
      "metadata": {
        "id": "Wv4QyX0BdBEW"
      },
      "execution_count": null,
      "outputs": []
    },
    {
      "cell_type": "code",
      "source": [
        "a"
      ],
      "metadata": {
        "colab": {
          "base_uri": "https://localhost:8080/"
        },
        "id": "ZdzBe5GAdFKl",
        "outputId": "4044e906-35c0-42ca-c67d-9e77d4110944"
      },
      "execution_count": null,
      "outputs": [
        {
          "output_type": "execute_result",
          "data": {
            "text/plain": [
              "{'a', 'b', 'c', 'd', 'r'}"
            ]
          },
          "metadata": {},
          "execution_count": 105
        }
      ]
    },
    {
      "cell_type": "code",
      "source": [
        "b = set('alacazam')"
      ],
      "metadata": {
        "id": "ecDknc9MdoKW"
      },
      "execution_count": null,
      "outputs": []
    },
    {
      "cell_type": "code",
      "source": [
        "b"
      ],
      "metadata": {
        "colab": {
          "base_uri": "https://localhost:8080/"
        },
        "id": "tDdGJ7jHeNeW",
        "outputId": "aee6009c-2dd1-434b-fee3-bb2da94dac0d"
      },
      "execution_count": null,
      "outputs": [
        {
          "output_type": "execute_result",
          "data": {
            "text/plain": [
              "{'a', 'c', 'l', 'm', 'z'}"
            ]
          },
          "metadata": {},
          "execution_count": 107
        }
      ]
    },
    {
      "cell_type": "code",
      "source": [
        "a-b"
      ],
      "metadata": {
        "colab": {
          "base_uri": "https://localhost:8080/"
        },
        "id": "1F7rqKx8eKSq",
        "outputId": "a8db085c-bf91-4bff-e6d8-c568c076dde9"
      },
      "execution_count": null,
      "outputs": [
        {
          "output_type": "execute_result",
          "data": {
            "text/plain": [
              "{'b', 'd', 'r'}"
            ]
          },
          "metadata": {},
          "execution_count": 108
        }
      ]
    },
    {
      "cell_type": "code",
      "source": [
        "a | b"
      ],
      "metadata": {
        "colab": {
          "base_uri": "https://localhost:8080/"
        },
        "id": "CHA67BEreRQE",
        "outputId": "6161b2c5-33c1-490b-def3-e69ca87a3a39"
      },
      "execution_count": null,
      "outputs": [
        {
          "output_type": "execute_result",
          "data": {
            "text/plain": [
              "{'a', 'b', 'c', 'd', 'l', 'm', 'r', 'z'}"
            ]
          },
          "metadata": {},
          "execution_count": 110
        }
      ]
    },
    {
      "cell_type": "code",
      "source": [
        "a & b"
      ],
      "metadata": {
        "colab": {
          "base_uri": "https://localhost:8080/"
        },
        "id": "cOmubeN4exKO",
        "outputId": "0beeca3d-1720-4f10-f444-80ecdda5de4c"
      },
      "execution_count": null,
      "outputs": [
        {
          "output_type": "execute_result",
          "data": {
            "text/plain": [
              "{'a', 'c'}"
            ]
          },
          "metadata": {},
          "execution_count": 111
        }
      ]
    },
    {
      "cell_type": "code",
      "source": [
        "a"
      ],
      "metadata": {
        "colab": {
          "base_uri": "https://localhost:8080/"
        },
        "id": "ikhSoVosfbue",
        "outputId": "5d74b356-7004-459f-96a7-cedf1390a08c"
      },
      "execution_count": null,
      "outputs": [
        {
          "output_type": "execute_result",
          "data": {
            "text/plain": [
              "{'a', 'b', 'c', 'd', 'r'}"
            ]
          },
          "metadata": {},
          "execution_count": 113
        }
      ]
    },
    {
      "cell_type": "code",
      "source": [
        "b"
      ],
      "metadata": {
        "colab": {
          "base_uri": "https://localhost:8080/"
        },
        "id": "yVa9Or71fdXQ",
        "outputId": "d84a4c16-0386-4478-c6bf-b90c7f6463df"
      },
      "execution_count": null,
      "outputs": [
        {
          "output_type": "execute_result",
          "data": {
            "text/plain": [
              "{'a', 'c', 'l', 'm', 'z'}"
            ]
          },
          "metadata": {},
          "execution_count": 114
        }
      ]
    },
    {
      "cell_type": "code",
      "source": [
        "a ^ b"
      ],
      "metadata": {
        "colab": {
          "base_uri": "https://localhost:8080/"
        },
        "id": "Oc11S0_8e7oI",
        "outputId": "bbebd368-a6ab-4936-cb3d-cce01f32bdc9"
      },
      "execution_count": null,
      "outputs": [
        {
          "output_type": "execute_result",
          "data": {
            "text/plain": [
              "{'b', 'd', 'l', 'm', 'r', 'z'}"
            ]
          },
          "metadata": {},
          "execution_count": 112
        }
      ]
    },
    {
      "cell_type": "markdown",
      "source": [
        "# Dictionaries\n",
        "\n",
        "***Key:Value Pair***\n",
        "\n",
        "The main operations on a dictionary are storing a value with some key and extracting the value given the key\n",
        "\n"
      ],
      "metadata": {
        "id": "YZ6X_pJDfvIp"
      }
    },
    {
      "cell_type": "code",
      "source": [
        "tel = {'jack': 4098, 'sape': 4139}\n",
        "tel"
      ],
      "metadata": {
        "colab": {
          "base_uri": "https://localhost:8080/"
        },
        "id": "CNy_2Rmpfupa",
        "outputId": "53e61a2f-eea7-42b7-a825-67217a165c96"
      },
      "execution_count": null,
      "outputs": [
        {
          "output_type": "execute_result",
          "data": {
            "text/plain": [
              "{'jack': 4098, 'sape': 4139}"
            ]
          },
          "metadata": {},
          "execution_count": 116
        }
      ]
    },
    {
      "cell_type": "code",
      "source": [
        "tel['Prem'] = 4898"
      ],
      "metadata": {
        "id": "uknQ9zSAgF9Z"
      },
      "execution_count": null,
      "outputs": []
    },
    {
      "cell_type": "code",
      "source": [
        "tel"
      ],
      "metadata": {
        "colab": {
          "base_uri": "https://localhost:8080/"
        },
        "id": "BufX3sjygRdW",
        "outputId": "bf4124e7-3987-4a00-e3eb-715685b1e91e"
      },
      "execution_count": null,
      "outputs": [
        {
          "output_type": "execute_result",
          "data": {
            "text/plain": [
              "{'jack': 4098, 'sape': 4139, 'Prem': 4898}"
            ]
          },
          "metadata": {},
          "execution_count": 118
        }
      ]
    },
    {
      "cell_type": "code",
      "source": [
        "del tel['sape']"
      ],
      "metadata": {
        "id": "liCp-5aVgiZz"
      },
      "execution_count": null,
      "outputs": []
    },
    {
      "cell_type": "code",
      "source": [
        "tel"
      ],
      "metadata": {
        "colab": {
          "base_uri": "https://localhost:8080/"
        },
        "id": "iC_5TjEzgmn1",
        "outputId": "785285a6-82f4-4971-ee69-3c884a45e7e8"
      },
      "execution_count": null,
      "outputs": [
        {
          "output_type": "execute_result",
          "data": {
            "text/plain": [
              "{'jack': 4098, 'Prem': 4898}"
            ]
          },
          "metadata": {},
          "execution_count": 120
        }
      ]
    },
    {
      "cell_type": "code",
      "source": [
        "list(tel)"
      ],
      "metadata": {
        "colab": {
          "base_uri": "https://localhost:8080/"
        },
        "id": "wh2kXvm-gtd8",
        "outputId": "749ddebc-2370-41b4-dacf-37dc4cf5f2fb"
      },
      "execution_count": null,
      "outputs": [
        {
          "output_type": "execute_result",
          "data": {
            "text/plain": [
              "['jack', 'Prem']"
            ]
          },
          "metadata": {},
          "execution_count": 121
        }
      ]
    },
    {
      "cell_type": "code",
      "source": [
        "sorted(tel)"
      ],
      "metadata": {
        "colab": {
          "base_uri": "https://localhost:8080/"
        },
        "id": "TUAhk3l4gzol",
        "outputId": "95828cc9-c696-455e-c180-e8686ed238aa"
      },
      "execution_count": null,
      "outputs": [
        {
          "output_type": "execute_result",
          "data": {
            "text/plain": [
              "['Prem', 'jack']"
            ]
          },
          "metadata": {},
          "execution_count": 122
        }
      ]
    },
    {
      "cell_type": "code",
      "source": [
        "'jack' not in tel"
      ],
      "metadata": {
        "colab": {
          "base_uri": "https://localhost:8080/"
        },
        "id": "uF3Do6HMg61X",
        "outputId": "c55fbcea-d4a8-4e8f-9c0f-a9ab7ccdce13"
      },
      "execution_count": null,
      "outputs": [
        {
          "output_type": "execute_result",
          "data": {
            "text/plain": [
              "False"
            ]
          },
          "metadata": {},
          "execution_count": 123
        }
      ]
    },
    {
      "cell_type": "code",
      "source": [
        "'jack' in tel"
      ],
      "metadata": {
        "colab": {
          "base_uri": "https://localhost:8080/"
        },
        "id": "35ihXJD1hEIn",
        "outputId": "8afbb3ea-384b-42aa-8e80-77372c2513d8"
      },
      "execution_count": null,
      "outputs": [
        {
          "output_type": "execute_result",
          "data": {
            "text/plain": [
              "True"
            ]
          },
          "metadata": {},
          "execution_count": 124
        }
      ]
    },
    {
      "cell_type": "code",
      "source": [
        "lst=[('sape', 4139), ('guido', 4127), ('jack', 4098)]\n",
        "print(lst)\n"
      ],
      "metadata": {
        "colab": {
          "base_uri": "https://localhost:8080/"
        },
        "id": "zRdsFwachkcW",
        "outputId": "93d8bdb5-01ac-42fc-8823-953a3a8a544c"
      },
      "execution_count": null,
      "outputs": [
        {
          "output_type": "stream",
          "name": "stdout",
          "text": [
            "[('sape', 4139), ('guido', 4127), ('jack', 4098)]\n"
          ]
        }
      ]
    },
    {
      "cell_type": "code",
      "source": [
        "dict(lst)"
      ],
      "metadata": {
        "colab": {
          "base_uri": "https://localhost:8080/"
        },
        "id": "V2jX0s5_h4Hu",
        "outputId": "94253c0e-9c11-4ddc-a0d3-bbf1e3208c1b"
      },
      "execution_count": null,
      "outputs": [
        {
          "output_type": "execute_result",
          "data": {
            "text/plain": [
              "{'sape': 4139, 'guido': 4127, 'jack': 4098}"
            ]
          },
          "metadata": {},
          "execution_count": 139
        }
      ]
    },
    {
      "cell_type": "code",
      "source": [
        "dict([('sape', 4139), ('guido', 4127), ('jack', 4098)])"
      ],
      "metadata": {
        "colab": {
          "base_uri": "https://localhost:8080/"
        },
        "id": "iuEs8HWdhMzo",
        "outputId": "64be4b73-3392-475c-f06e-e0a65bfdfc49"
      },
      "execution_count": null,
      "outputs": [
        {
          "output_type": "execute_result",
          "data": {
            "text/plain": [
              "{'sape': 4139, 'guido': 4127, 'jack': 4098}"
            ]
          },
          "metadata": {},
          "execution_count": 125
        }
      ]
    },
    {
      "cell_type": "code",
      "source": [
        "var = input('Enter a number')\n",
        "print(int(var)**3)"
      ],
      "metadata": {
        "id": "wJW7irQVjMB9",
        "colab": {
          "base_uri": "https://localhost:8080/"
        },
        "outputId": "0c6ed463-e2d4-4b6b-8fbf-b96d10f9d77c"
      },
      "execution_count": null,
      "outputs": [
        {
          "output_type": "stream",
          "name": "stdout",
          "text": [
            "Enter a number10\n",
            "1000\n"
          ]
        }
      ]
    },
    {
      "cell_type": "code",
      "source": [
        "var = input('Enter a number')\n",
        "power = int(input('Enter power value'))\n",
        "print(int(var)**power)"
      ],
      "metadata": {
        "id": "Dx2rbER8jdkz",
        "colab": {
          "base_uri": "https://localhost:8080/"
        },
        "outputId": "84dc3525-7244-4a21-82da-d4f46631541e"
      },
      "execution_count": null,
      "outputs": [
        {
          "output_type": "stream",
          "name": "stdout",
          "text": [
            "Enter a number10\n",
            "Enter power value10\n",
            "10000000000\n"
          ]
        }
      ]
    },
    {
      "cell_type": "code",
      "source": [
        "var = input('Enter a number')\n",
        "power = input('Enter power value')\n",
        "print(int(var)**int(power))"
      ],
      "metadata": {
        "colab": {
          "base_uri": "https://localhost:8080/"
        },
        "id": "RMTlg_-vCeKt",
        "outputId": "9171f148-bc8c-4f4f-835c-36c8c9fc1e1f"
      },
      "execution_count": null,
      "outputs": [
        {
          "output_type": "stream",
          "name": "stdout",
          "text": [
            "Enter a number12\n",
            "Enter power value12\n",
            "8916100448256\n"
          ]
        }
      ]
    },
    {
      "cell_type": "code",
      "source": [
        "type(24)"
      ],
      "metadata": {
        "colab": {
          "base_uri": "https://localhost:8080/"
        },
        "id": "QAPMn5f0Cu5a",
        "outputId": "5d3aff09-4486-4637-8772-c87d09f8cb69"
      },
      "execution_count": null,
      "outputs": [
        {
          "output_type": "execute_result",
          "data": {
            "text/plain": [
              "int"
            ]
          },
          "metadata": {},
          "execution_count": 8
        }
      ]
    },
    {
      "cell_type": "code",
      "source": [
        "a = 'this is a'\n",
        "b = 'message'\n",
        "c = 9\n",
        "print(a + b)\n",
        "print(a + c) # you cannot concatnate a string with integer"
      ],
      "metadata": {
        "colab": {
          "base_uri": "https://localhost:8080/"
        },
        "id": "_RhDugUbC1py",
        "outputId": "7ed97dae-e058-4706-84ee-847724a12a4e"
      },
      "execution_count": null,
      "outputs": [
        {
          "output_type": "stream",
          "name": "stdout",
          "text": [
            "this is amessage\n",
            "this is a9\n"
          ]
        }
      ]
    },
    {
      "cell_type": "markdown",
      "source": [
        "Now, can you fix the error we had in the code above?"
      ],
      "metadata": {
        "id": "knGl1pI0D7wM"
      }
    },
    {
      "cell_type": "code",
      "source": [
        "a = 'this is a'\n",
        "b = 'message'\n",
        "c = 9\n",
        "print(a + b)\n",
        "print(a + str(c)) # you cannot concatnate a string with integer"
      ],
      "metadata": {
        "colab": {
          "base_uri": "https://localhost:8080/"
        },
        "id": "7OkFZrHAEEu-",
        "outputId": "aaac8d8c-eedf-4326-a9b7-def603227591"
      },
      "execution_count": null,
      "outputs": [
        {
          "output_type": "stream",
          "name": "stdout",
          "text": [
            "this is amessage\n",
            "this is a9\n"
          ]
        }
      ]
    },
    {
      "cell_type": "markdown",
      "source": [
        "\n",
        "\n",
        "```\n",
        "Type conversion functions\n",
        " int(arg), float(arg), str(arg)\n",
        "```\n",
        "\n"
      ],
      "metadata": {
        "id": "pQ1nM1phDLzz"
      }
    },
    {
      "cell_type": "code",
      "source": [
        "strinp = input()\n",
        "print(type(strinp))\n",
        "\n",
        "intinp = int(input())\n",
        "print(type(intinp))\n",
        "\n",
        "intinp = float(input())\n",
        "print(type(intinp))\n",
        "print(intinp)"
      ],
      "metadata": {
        "colab": {
          "base_uri": "https://localhost:8080/"
        },
        "id": "b8BKwdV2DLkR",
        "outputId": "5d2ec811-6862-439a-c3a7-a87f9786e185"
      },
      "execution_count": null,
      "outputs": [
        {
          "output_type": "stream",
          "name": "stdout",
          "text": [
            "12\n",
            "<class 'str'>\n",
            "12\n",
            "<class 'int'>\n",
            "12\n",
            "<class 'float'>\n",
            "12.0\n"
          ]
        }
      ]
    },
    {
      "cell_type": "markdown",
      "source": [],
      "metadata": {
        "id": "iSlgWmG8EWdS"
      }
    },
    {
      "cell_type": "markdown",
      "source": [
        "Write a function to convert Km to Miles"
      ],
      "metadata": {
        "id": "OClJhjIoEYNV"
      }
    },
    {
      "cell_type": "code",
      "source": [
        "def km_to_miles(km):\n",
        "  miles = km / 1.60934\n",
        "  return miles\n",
        "\n",
        "print(km_to_miles(1))\n",
        "print(km_to_miles(2))\n",
        "print(km_to_miles(3))\n",
        "print('---------------------')\n",
        "\n",
        "for i in range(1,11):\n",
        "  print(km_to_miles(i))"
      ],
      "metadata": {
        "colab": {
          "base_uri": "https://localhost:8080/"
        },
        "id": "5iWa-QT5ETCI",
        "outputId": "500eb067-b267-401d-f9c7-260bdfe09957"
      },
      "execution_count": null,
      "outputs": [
        {
          "output_type": "stream",
          "name": "stdout",
          "text": [
            "0.6213727366498067\n",
            "1.2427454732996135\n",
            "1.8641182099494202\n",
            "---------------------\n",
            "0.6213727366498067\n",
            "1.2427454732996135\n",
            "1.8641182099494202\n",
            "2.485490946599227\n",
            "3.106863683249034\n",
            "3.7282364198988405\n",
            "4.349609156548647\n",
            "4.970981893198454\n",
            "5.592354629848261\n",
            "6.213727366498068\n"
          ]
        }
      ]
    },
    {
      "cell_type": "markdown",
      "source": [
        "Write a function to convert CM to Inches"
      ],
      "metadata": {
        "id": "1MKdR5p_FNaT"
      }
    },
    {
      "cell_type": "code",
      "source": [
        "def cm_to_inches(cm):\n",
        "  inches = cm * 0.393701\n",
        "  return inches\n",
        "\n",
        "for i in range (1,11):\n",
        "  print(i, \" Inches = \", round(cm_to_inches(i),2),\" Cms\")"
      ],
      "metadata": {
        "colab": {
          "base_uri": "https://localhost:8080/"
        },
        "id": "iB85RuA_FOIY",
        "outputId": "bc2e1952-a7df-4fa1-8b7d-a08c4d53d4a8"
      },
      "execution_count": null,
      "outputs": [
        {
          "output_type": "stream",
          "name": "stdout",
          "text": [
            "1  Inches =  0.39  Cms\n",
            "2  Inches =  0.79  Cms\n",
            "3  Inches =  1.18  Cms\n",
            "4  Inches =  1.57  Cms\n",
            "5  Inches =  1.97  Cms\n",
            "6  Inches =  2.36  Cms\n",
            "7  Inches =  2.76  Cms\n",
            "8  Inches =  3.15  Cms\n",
            "9  Inches =  3.54  Cms\n",
            "10  Inches =  3.94  Cms\n"
          ]
        }
      ]
    },
    {
      "cell_type": "markdown",
      "source": [
        "1. Function to calucate Farenhiet to Cellcius . Print 1 to 100"
      ],
      "metadata": {
        "id": "WQZ0QdYo-857"
      }
    },
    {
      "cell_type": "markdown",
      "source": [
        "\n",
        "\n",
        "```\n",
        "2. Write a Python function to sum all the numbers in a list.\n",
        "Sample List : (8, 2, 3, 0, 7)\n",
        "Expected Output : 20\n",
        "```\n",
        "\n"
      ],
      "metadata": {
        "id": "0nT32ob-GRDQ"
      }
    },
    {
      "cell_type": "markdown",
      "source": [
        "\n",
        "\n",
        "```\n",
        "3. Write a Python function to multiply all the numbers in a list.\n",
        "Sample List : (8, 2, 3, -1, 7)\n",
        "Expected Output : -336\n",
        "```\n",
        "\n"
      ],
      "metadata": {
        "id": "-SKBQPQ_GUiL"
      }
    },
    {
      "cell_type": "code",
      "source": [
        "\n",
        "type(x)"
      ],
      "metadata": {
        "colab": {
          "base_uri": "https://localhost:8080/"
        },
        "id": "VYit9EqhSyYd",
        "outputId": "43d3046b-4ee8-4a4b-b8ff-9fd05fde2e13"
      },
      "execution_count": null,
      "outputs": [
        {
          "name": "stdout",
          "output_type": "stream",
          "text": [
            "2,3,6,5\n"
          ]
        },
        {
          "output_type": "execute_result",
          "data": {
            "text/plain": [
              "list"
            ]
          },
          "metadata": {},
          "execution_count": 43
        }
      ]
    },
    {
      "cell_type": "code",
      "source": [
        "def sum_lst(lst_val):\n",
        "  s=0\n",
        "  print(lst_val)\n",
        "  for i in lst_val:\n",
        "    s=s+int(i)\n",
        "  return s\n",
        "x= [x for x in input().strip().split(',')]\n",
        "print(sum_lst(x))\n"
      ],
      "metadata": {
        "colab": {
          "base_uri": "https://localhost:8080/"
        },
        "id": "L0iTUgwYQF41",
        "outputId": "12c689c6-4062-477b-a0d6-6277794eb5a7"
      },
      "execution_count": null,
      "outputs": [
        {
          "output_type": "stream",
          "name": "stdout",
          "text": [
            "6,9,0,8\n",
            "['6', '9', '0', '8']\n",
            "23\n"
          ]
        }
      ]
    },
    {
      "cell_type": "markdown",
      "source": [
        "\n",
        "\n",
        "```\n",
        "7. Write a Python function that accepts a string and counts the number of upper and lower case letters.\n",
        "Sample String : 'The quick Brow Fox'\n",
        "Expected Output :\n",
        "No. of Upper case characters : 3\n",
        "No. of Lower case Characters : 12\n",
        "```\n",
        "\n"
      ],
      "metadata": {
        "id": "5d_xEsygGcLD"
      }
    },
    {
      "cell_type": "markdown",
      "source": [
        "\n",
        "\n",
        "```\n",
        "8. Write a Python function that takes a list and returns a new list with distinct elements from the first list.\n",
        "Sample List : [1,2,3,3,3,3,4,5]\n",
        "Unique List : [1, 2, 3, 4, 5]\n",
        "```\n",
        "\n"
      ],
      "metadata": {
        "id": "XBrGsIgaGpCB"
      }
    },
    {
      "cell_type": "markdown",
      "source": [],
      "metadata": {
        "id": "b3ip0jd9GuFt"
      }
    }
  ]
}